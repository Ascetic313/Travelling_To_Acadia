{
 "cells": [
  {
   "cell_type": "code",
   "execution_count": null,
   "id": "87fd6bc3",
   "metadata": {},
   "outputs": [],
   "source": [
    "# import codecademylib3\n",
    "import codecademylib3\n",
    "import numpy as np\n",
    "from matplotlib import pyplot as plt\n",
    "\n",
    "# load in data\n",
    "in_bloom = np.loadtxt(open(\"in-bloom.csv\"), delimiter=\",\")\n",
    "flights = np.loadtxt(open(\"flights.csv\"), delimiter=\",\")\n",
    "\n",
    "# Plot the histograms\n",
    "plt.figure(1)\n",
    "plt.subplot(211)\n",
    "plt.hist(flights, range = (0, 365), bins = 365)\n",
    "plt.title('Weekday Frequency of Customers')\n",
    "plt.xlabel('Hours(1 hour increments)')\n",
    "plt.ylabel('Count')\n",
    "plt.subplot(212)\n",
    "\n",
    "#Second Graph:\n",
    "\n",
    "plt.hist(in_bloom, range = (0, 365), bins =365)\n",
    "plt.title('Yearly bloom of Flowers')\n",
    "plt.ylabel('Count')\n",
    "plt.xlabel('Days')\n",
    "plt.tight_layout()\n",
    "plt.show()\n",
    "\n"
   ]
  }
 ],
 "metadata": {
  "kernelspec": {
   "display_name": "Python 3",
   "language": "python",
   "name": "python3"
  },
  "language_info": {
   "codemirror_mode": {
    "name": "ipython",
    "version": 3
   },
   "file_extension": ".py",
   "mimetype": "text/x-python",
   "name": "python",
   "nbconvert_exporter": "python",
   "pygments_lexer": "ipython3",
   "version": "3.8.8"
  }
 },
 "nbformat": 4,
 "nbformat_minor": 5
}
